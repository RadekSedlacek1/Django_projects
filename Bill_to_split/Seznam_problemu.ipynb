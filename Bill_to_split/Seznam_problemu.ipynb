{
 "cells": [
  {
   "cell_type": "markdown",
   "metadata": {},
   "source": [
    "### payment_add:\n",
    "PaymentBalance.objects.create(...) přidat i created_at / modified_at"
   ]
  },
  {
   "cell_type": "markdown",
   "metadata": {},
   "source": [
    "### Při vytvoření ledgeru se má přidat zakládající uživatel přes dummy platbu do ledgeru"
   ]
  },
  {
   "cell_type": "markdown",
   "metadata": {},
   "source": [
    "### V současnosti ukazuji všechny ledgery, ne jen ty, které mají vztah k uživateli"
   ]
  },
  {
   "cell_type": "markdown",
   "metadata": {},
   "source": [
    "### Unikátnost záznamu User.name\n",
    "Při vytváření účtu je problém s unikátností User.name, měl bych to nahradit nějakým nickem, že uvidím vždy neunikátní nick místo jména, ale logika bude pracovat se jménem, nebo lépe s ID, které unikátní bude.\n",
    "Jméno pak pro potřeby databáze může být User.nick+ID, to unikátní bude vždy díky tomu ID. \n",
    "Pro potřeby ledgeru, kde se vyskytuje Person to bude Person.name+id.\n",
    "Do logiky pak musím přidat možnost vidět vždy i e-mail, nebo ID pro případ, že více lidí má shodný nick ve stejném ledgeru. Abych provedl platbu na správného usera\n"
   ]
  },
  {
   "cell_type": "markdown",
   "metadata": {},
   "source": [
    "### Změna přiřazování ID\n",
    "Bylo by dobré přidat generátor náhodných čísel k přiřazení ID tak, aby z ID nebylo možné poznat kolik lidí má účet a zároveň aby ID mělo vždy daný počet číslic, například 8"
   ]
  },
  {
   "cell_type": "markdown",
   "metadata": {},
   "source": [
    "### Notifikace\n",
    "Notifikace musí být nová entita v modelu a mít pole: Od koho, komu, typ, stav(pending / accepted / refused)\n",
    "* Upozornění na přidání do seznamu kontaktů jiného uživatele\n",
    "* Upozornění na přidání do ledgeru (dummy platba a dummy balance)\n",
    "* upozornění na změnu balance v rámci ledgeru - platba s balance s mým jménem"
   ]
  },
  {
   "cell_type": "markdown",
   "metadata": {},
   "source": [
    "### Požadavky s příjmutím\n",
    "Editace notifikace na možnost přijmutí a odmítnutí požadavku i v templatech a views"
   ]
  }
 ],
 "metadata": {
  "language_info": {
   "name": "python"
  }
 },
 "nbformat": 4,
 "nbformat_minor": 2
}
